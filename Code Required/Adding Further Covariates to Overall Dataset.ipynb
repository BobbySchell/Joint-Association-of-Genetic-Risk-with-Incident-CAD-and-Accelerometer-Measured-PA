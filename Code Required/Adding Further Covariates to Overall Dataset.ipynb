{
 "cells": [
  {
   "cell_type": "markdown",
   "metadata": {},
   "source": [
    "# Adding Further Covariates to Overall Dataset\n",
    "\n",
    "### Sources:\n",
    "\n",
    "\n",
    "\n",
    "\n",
    "## Adding Further  Covariates\n",
    "\n",
    "This adds several covariates that will be used in the formal analysis and sensitivity analysis. "
   ]
  },
  {
   "cell_type": "code",
   "execution_count": null,
   "metadata": {},
   "outputs": [],
   "source": [
    "import pyspark\n",
    "import dxpy\n",
    "import dxdata\n",
    "import pandas as pd\n",
    "import os\n",
    "\n",
    "from pyspark.sql.functions import when, concat_ws\n",
    "from re import sub"
   ]
  },
  {
   "cell_type": "code",
   "execution_count": null,
   "metadata": {},
   "outputs": [],
   "source": [
    "sc = pyspark.SparkContext()\n",
    "spark = pyspark.sql.SparkSession(sc)"
   ]
  },
  {
   "cell_type": "code",
   "execution_count": null,
   "metadata": {},
   "outputs": [],
   "source": [
    "dispensed_database_name = dxpy.find_one_data_object(classname = \"database\",\n",
    "    name = \"app*\", folder = \"/\",\n",
    "    name_mode = \"glob\",\n",
    "    describe = True)[\"describe\"][\"name\"]\n",
    "\n",
    "dispensed_dataset_id = dxpy.find_one_data_object(typename = \"Dataset\",\n",
    " name = \"app*.dataset\",\n",
    " folder = \"/\",\n",
    " name_mode = \"glob\")[\"id\"]\n",
    "\n"
   ]
  },
  {
   "cell_type": "code",
   "execution_count": null,
   "metadata": {},
   "outputs": [],
   "source": [
    "dataset = dxdata.load_dataset(id = dispensed_dataset_id)"
   ]
  },
  {
   "cell_type": "code",
   "execution_count": null,
   "metadata": {},
   "outputs": [],
   "source": [
    "participant = dataset[\"participant\"]"
   ]
  },
  {
   "cell_type": "code",
   "execution_count": null,
   "metadata": {},
   "outputs": [],
   "source": [
    "\n",
    "cohort = dxdata.load_cohort(\"Processed Cohort ALL ANCESTRIES\")\n",
    "\n",
    "\n",
    "field_names = [\"eid\", \"p6142_i0\", \"p6142_i1\", \"p6142_i2\", \"p6142_i3\", \"p189\", \"p1289_i0\", \"p1289_i1\",\n",
    "      \"p1289_i2\", \"p1289_i3\", \"p1299_i0\", \"p1299_i1\", \"p1299_i2\", \"p1299_i3\", \"p1309_i0\",\n",
    "      \"p1309_i1\", \"p1309_i2\", \"p1309_i3\", \"p1319_i0\", \"p1319_i1\", \"p1319_i2\", \"p1319_i3\",\n",
    "      \"p1349_i0\", \"p1349_i1\", \"p1349_i2\", \"p1349_i3\", \"p1478_i0\", \"p1478_i1\", \"p1478_i2\",\n",
    "      \"p1478_i3\", \"p1329_i0\", \"p1329_i1\", \"p1329_i2\", \"p1329_i3\", \"p1558_i0\", \"p1558_i1\",\n",
    "      \"p1558_i2\", \"p1558_i3\", \"p1160_i0\", \"p1160_i1\", \"p1160_i2\", \"p1160_i3\", \"p20116_i0\",\n",
    "      \"p20116_i1\", \"p20116_i2\", \"p20116_i3\", \"p20161_i0\", \"p20161_i1\", \"p20161_i2\", \"p20161_i3\",\n",
    "      \"p20107_i0\", \"p20107_i1\", \"p20107_i2\", \"p20107_i3\", \"p20110_i0\", \"p20110_i1\", \"p20110_i2\",\n",
    "      \"p20110_i3\", \"p120098\", \"p6177_i0\", \"p6177_i1\",\n",
    "      \"p6177_i2\", \"p6177_i3\", \"p22032_i0\", \"p22039_i0\", \"p22038_i0\", \"p22040_i0\", \"p816_i0\", \"p816_i1\", \"p816_i2\", \"p816_i3\", \"p806_i0\", \"p806_i1\", \n",
    "\"p806_i2\", \"p806_i3\", \"p21000_i0\", \"p21000_i1\", \"p21000_i2\", \"p104920_i0\", \"p104920_i1\", \"p104920_i2\", \"p104920_i3\", \"p104920_i4\", \"p104910_i0\", \"p104910_i1\", \"p104910_i2\", \"p104910_i3\", \"p104910_i4\", \"p104900_i0\", \"p104900_i1\", \"p104900_i2\", \"p104900_i3\", \n",
    "               \"p104900_i4\", \"p894_i0\", \"p894_i1\", \"p894_i2\", \"p894_i3\", \"p914_i0\", \"p914_i1\", \"p914_i2\", \"p914_i3\"]"
   ]
  },
  {
   "cell_type": "code",
   "execution_count": null,
   "metadata": {},
   "outputs": [],
   "source": [
    "df = participant.retrieve_fields(names = field_names,\n",
    " filter_sql = cohort.sql,\n",
    " coding_values = \"replace\",\n",
    " engine = dxdata.connect())\n"
   ]
  },
  {
   "cell_type": "code",
   "execution_count": null,
   "metadata": {},
   "outputs": [],
   "source": [
    "df_pandas = df.toPandas()\n",
    "df_pandas.head()"
   ]
  },
  {
   "cell_type": "code",
   "execution_count": null,
   "metadata": {},
   "outputs": [],
   "source": [
    "df_pandas.to_csv(\"FINALCovarsforCAD.csv\")"
   ]
  },
  {
   "cell_type": "code",
   "execution_count": null,
   "metadata": {},
   "outputs": [],
   "source": [
    "# Bash Kernel\n",
    "dx upload FINALCovarsforCAD.csv"
   ]
  },
  {
   "cell_type": "code",
   "execution_count": null,
   "metadata": {},
   "outputs": [],
   "source": [
    "dx download FINALCovarsforCAD.csv\n",
    "dx download FINALANALYSISDATAPAPER3.csv"
   ]
  },
  {
   "cell_type": "code",
   "execution_count": null,
   "metadata": {},
   "outputs": [],
   "source": [
    "# In R Kernel\n",
    "PADATA <- read.csv(\"FINALANALYSISDATAPAPER3.csv\")\n",
    "COVARS <- read.csv(\"FINALCovarsforCAD.csv\")"
   ]
  },
  {
   "cell_type": "code",
   "execution_count": null,
   "metadata": {},
   "outputs": [],
   "source": [
    "# Showing for subset of variables but process is the same for all\n",
    "field_names <- c(\"X\", \"eid\", \"p22032_i0\", \"p22039_i0\", \"p22038_i0\", \"p22040_i0\", \"p816_i0\", \"p816_i1\", \"p816_i2\", \"p816_i3\", \"p806_i0\", \"p806_i1\", \n",
    "                 \"p806_i2\", \"p806_i3\", \"p21000_i0\", \"p21000_i1\", \"p21000_i2\")\n",
    "\n",
    "\n",
    "\n",
    "# Making sure order is same between original field_names and COVARS dataset BEFORE renaming\n",
    "MATCH <- match(field_names, colnames(COVARS))\n",
    "\n",
    "\n",
    "# Provided this works then:\n",
    "covarvector <- c(\"X\", \"eid\", \"IPAQGroupInst1\", \"METVigorous\", \"METMVPA\", \"METTotal\", \"ManLabor_Inst0\", \"ManLabor_Inst1\", \"ManLabor_Inst2\", \"ManLabor_Inst3\",\"WalkorStandWork_Inst0\", \"WalkorStandwork_Inst1\", \n",
    "                 \"WalkorStandWork_Inst2\", \"WalkorStandWork_Inst3\", \"Ethnicity_Inst0\", \"Ethnicity_Inst1\", \"Ethnicity_Inst2\")\n",
    "\n",
    "\n",
    "colnames(COVARS) <- covarvector\n",
    "\n",
    "# Dropping unnecessary x variable\n",
    "COVARS <- COVARS[ , -1]\n",
    "\n",
    "\n",
    "colnames(PADATA)\n",
    "dim(PADATA)\n",
    "# 77474 x 67\n",
    "\n",
    "# ALSO NOTE there are some unprocessed redundancies in PADATA (un-renamed covars that overlap w accelerometer)\n",
    "# UsedinPCA merging to get ONLY those that make kinship criteria\n",
    "FINALDATAMERGE <- merge(PADATA, COVARS, by = \"eid\", all = F)\n",
    "\n",
    "dim(FINALDATAMERGE)\n",
    "# 77474 x 957\n"
   ]
  },
  {
   "cell_type": "code",
   "execution_count": null,
   "metadata": {},
   "outputs": [],
   "source": [
    "write.csv(FINALDATAMERGE, \"FINALIZEDPADATASET.csv\")"
   ]
  },
  {
   "cell_type": "code",
   "execution_count": null,
   "metadata": {},
   "outputs": [],
   "source": [
    "# In Bash Kernel\n",
    "dx upload FINALIZEDPADATASET.csv"
   ]
  }
 ],
 "metadata": {
  "kernelspec": {
   "display_name": "Python 3",
   "language": "python",
   "name": "python3"
  },
  "language_info": {
   "codemirror_mode": {
    "name": "ipython",
    "version": 3
   },
   "file_extension": ".py",
   "mimetype": "text/x-python",
   "name": "python",
   "nbconvert_exporter": "python",
   "pygments_lexer": "ipython3",
   "version": "3.8.5"
  }
 },
 "nbformat": 4,
 "nbformat_minor": 4
}
