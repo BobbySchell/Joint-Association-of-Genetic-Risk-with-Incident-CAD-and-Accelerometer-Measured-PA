{
 "cells": [
  {
   "cell_type": "markdown",
   "metadata": {},
   "source": [
    "# Creating the Physical Activity Intensity Exposure Variable\n",
    "\n",
    "### Sources:\n",
    ">Strain T, Wijndaele K, Dempsey PC, et al. Wearable device measured physical activity and future healthrisk. Nat Med. 2020;26(9):1385. doi:10.1038/S41591-020-1012-3\n",
    "\n",
    "\n",
    "\n",
    "## MVPA in Minutes\n",
    "\n",
    "This code creates the central MVPA exposure by creating a subset of ENMO accumulated at or above 125 miligravities."
   ]
  },
  {
   "cell_type": "code",
   "execution_count": null,
   "metadata": {},
   "outputs": [],
   "source": [
    "# Bash kernel\n",
    "dx download FINALANALYSISDATAPAPER3.csv\n"
   ]
  },
  {
   "cell_type": "code",
   "execution_count": null,
   "metadata": {},
   "outputs": [],
   "source": [
    "# Reading in needed packages\n",
    "install.packages(\"survival\")\n",
    "library(survival)\n",
    "\n",
    "install.packages(\"ggplot2\")\n",
    "library(ggplot2)\n",
    "\n",
    "install.packages(\"multcomp\")\n",
    "library(multcomp)"
   ]
  },
  {
   "cell_type": "code",
   "execution_count": null,
   "metadata": {},
   "outputs": [],
   "source": [
    "data <- read.csv(\"FINALANALYSISDATAPAPER3.csv\")\n"
   ]
  },
  {
   "cell_type": "code",
   "execution_count": null,
   "metadata": {},
   "outputs": [],
   "source": [
    "# RESTRICT to white dataset based on genetics\n",
    "whitedata <- subset(data, Genetic.Ethnic.Grouping == \"Caucasian\")\n",
    "dim(whitedata)\n",
    "# 66,180 x 74\n"
   ]
  },
  {
   "cell_type": "code",
   "execution_count": null,
   "metadata": {},
   "outputs": [],
   "source": [
    "# Creating MVPA as minutes per week\n",
    "whitedata$MVPAMins <- (1 - whitedata$p90128)*1440\n",
    "# p90128 is minutes spent <= 125 mgs, so inverse is MVPA by our cutoff def\n",
    "# Multiplying by 1440 to convert fraction of time into minutes in a day\n",
    "# Makes sense relative to existing studies - just over an hour/day on avg\n"
   ]
  },
  {
   "cell_type": "code",
   "execution_count": null,
   "metadata": {},
   "outputs": [],
   "source": [
    "write.csv(whitedata, \"DatasetwNewExposures.csv\")\n"
   ]
  },
  {
   "cell_type": "code",
   "execution_count": null,
   "metadata": {},
   "outputs": [],
   "source": [
    "# Bash kernel\n",
    "dx upload DatasetwNewExposures.csv\n"
   ]
  }
 ],
 "metadata": {
  "kernelspec": {
   "display_name": "Python 3",
   "language": "python",
   "name": "python3"
  },
  "language_info": {
   "codemirror_mode": {
    "name": "ipython",
    "version": 3
   },
   "file_extension": ".py",
   "mimetype": "text/x-python",
   "name": "python",
   "nbconvert_exporter": "python",
   "pygments_lexer": "ipython3",
   "version": "3.8.5"
  }
 },
 "nbformat": 4,
 "nbformat_minor": 4
}
