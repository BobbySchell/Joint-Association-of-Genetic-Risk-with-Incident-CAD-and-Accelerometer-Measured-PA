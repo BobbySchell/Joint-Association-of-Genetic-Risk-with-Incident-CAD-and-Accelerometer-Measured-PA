{
 "cells": [
  {
   "cell_type": "markdown",
   "metadata": {},
   "source": [
    "# Sensitivity Analyses Conducted\n",
    "\n",
    "### Sources:\n",
    "\n",
    "\n",
    "\n",
    "\n",
    "## Sensitivity Analyses\n",
    "\n",
    "We performed several sensitivity analyses. We excluded cases occurring within the first year of accelerometer wear to minimize possible reverse causation, MICE-based imputation, explored the impact of measured body mass index, average sleep duration, and cholesterol and blood pressure medication, all potential mediators, as well as manual labor conducted for one’s occupation on the results. All of these sensitivity analyses are shown for physical activity volume but the same process was used for both exposures. We also show the derivation of the Kaplan-Meier curve in the supplement."
   ]
  },
  {
   "cell_type": "code",
   "execution_count": null,
   "metadata": {},
   "outputs": [],
   "source": [
    "# Bash kernel\n",
    "dx download FINALANALYSISDATAPAPER3.csv"
   ]
  },
  {
   "cell_type": "code",
   "execution_count": null,
   "metadata": {},
   "outputs": [],
   "source": [
    "# Reading in needed packages\n",
    "install.packages(\"survival\")\n",
    "library(survival)\n",
    "\n",
    "install.packages(\"ggplot2\")\n",
    "library(ggplot2)\n",
    "\n",
    "install.packages(\"multcomp\")\n",
    "library(multcomp)\n",
    "\n",
    "install.packages('mice')\n",
    "library(mice)\n",
    "\n",
    "data <- read.csv(\"FINALANALYSISDATAPAPER3.csv\")\n",
    "\n",
    "# RESTRICT to white dataset based on genetics\n",
    "whitedata <- subset(data, Genetic.Ethnic.Grouping == \"Caucasian\")\n",
    "dim(whitedata)\n",
    "# 66,180 x 74"
   ]
  },
  {
   "cell_type": "code",
   "execution_count": null,
   "metadata": {},
   "outputs": [],
   "source": [
    "# -------\n",
    "# Imputation analyses\n",
    "# -------\n",
    "\n",
    "whitedatasub <- whitedata[ , c(\"AgeBaseline\", \"TimeYear\", \"Status\", \"PAEEPOS\", \"StandPGS\", \"SeasonWear\", \"Salt_InstChosen\", \"AlcIntake_Weekly\", \"OilyFish_InstChosen\", \"FnVScore\", \"ProcMeat_InstChosen\", \"ParentHist\", \"MobilityDichot\", \"NewEmploy\", \"Townsend\", \"NewEduc\", \"SmokStat_InstChosen\", \"Biological.Sex\", \"REGION\", \"p22009_a1\",\n",
    "                               \"p22009_a2\", \"p22009_a3\", \"p22009_a4\", \"p22009_a5\", \"p22009_a6\", \"p22009_a7\", \"p22009_a8\", \"p22009_a9\", \"p22009_a10\")]\n",
    "\n",
    "\n",
    "imputed_Data <- mice(whitedatasub, m=5, method = 'pmm', seed = 500)\n",
    "whitedataimputed <- complete(imputed_Data)\n",
    "\n",
    "fit.linimputed <- coxph(Surv(AgeBaseline, AgeBaseline + TimeYear, Status) ~ PAEEPOS + StandPGS + p22009_a1 + p22009_a2 + p22009_a3 + p22009_a4 + p22009_a5 + p22009_a6 + p22009_a7 + p22009_a8 + p22009_a9 + p22009_a10 + SeasonWear + as.factor(Salt_InstChosen) + AlcIntake_Weekly + OilyFish_InstChosen + FnVScore + ProcMeat_InstChosen + ParentHist + MobilityDichot + NewEmploy + Townsend + as.factor(NewEduc) + as.factor(SmokStat_InstChosen) + Biological.Sex, data = whitedataimputed)\n",
    "\n",
    "summary(fit.linimputed)"
   ]
  },
  {
   "cell_type": "code",
   "execution_count": null,
   "metadata": {},
   "outputs": [],
   "source": []
  },
  {
   "cell_type": "code",
   "execution_count": null,
   "metadata": {},
   "outputs": [],
   "source": [
    "# -------\n",
    "# 1 Year Exclusion Results\n",
    "# -------\n",
    "\n",
    "whitedataoneyear <- subset(whitedata, TimeYear > 1 | Status == 0)\n",
    "\n",
    "fit.linoneyear <- coxph(Surv(AgeBaseline, AgeBaseline + TimeYear, Status) ~ PAEEPOS + StandPGS + p22009_a1 + p22009_a2 + p22009_a3 + p22009_a4 + p22009_a5 + p22009_a6 + p22009_a7 + p22009_a8 + p22009_a9 + p22009_a10 + SeasonWear + as.factor(Salt_InstChosen) + AlcIntake_Weekly + OilyFish_InstChosen + FnVScore + ProcMeat_InstChosen + ParentHist + MobilityDichot + NewEmploy + Townsend + as.factor(NewEduc) + as.factor(SmokStat_InstChosen) + Biological.Sex, data = whitedataoneyear)\n",
    "\n",
    "summary(fit.linoneyear)"
   ]
  },
  {
   "cell_type": "code",
   "execution_count": null,
   "metadata": {},
   "outputs": [],
   "source": [
    "# -----\n",
    "# Linear model\n",
    "# ------\n",
    "\n",
    "fit.lin <- coxph(Surv(AgeBaseline, AgeBaseline + TimeYear, Status) ~ PAEEPOS + StandPGS + p22009_a1 + p22009_a2 + p22009_a3 + p22009_a4 + p22009_a5 + p22009_a6 + p22009_a7 + p22009_a8 + p22009_a9 + p22009_a10 + SeasonWear + as.factor(Salt_InstChosen) + AlcIntake_Weekly + OilyFish_InstChosen + FnVScore + ProcMeat_InstChosen + ParentHist + MobilityDichot + NewEmploy + Townsend + as.factor(NewEduc) + as.factor(SmokStat_InstChosen) + Biological.Sex, data = whitedata)\n",
    "\n",
    "summary(fit.lin)"
   ]
  },
  {
   "cell_type": "code",
   "execution_count": null,
   "metadata": {},
   "outputs": [],
   "source": [
    "# Base KM Curve\n",
    "#### FOR THE KM SURVIVAL FUNCTION\n",
    "survmod1 <- survfit(Surv(AgeBaseline, AgeBaseline + TimeYear, Status)~1, data=whitedata,\n",
    "                    conf.type=\"log-log\")\n",
    "\n",
    "survmod1.summary <- summary(survmod1)\n",
    "\n",
    "\n",
    "plot(survmod1,\n",
    "     main=\"Kaplan-Meier survival estimates\",\n",
    "     xlab=\"Age\",\n",
    "     ylab=\"Survival Probability\",\n",
    "     bty=\"l\", ylim = c(1.0,0.85), xlim = c(60,90))"
   ]
  },
  {
   "cell_type": "code",
   "execution_count": null,
   "metadata": {},
   "outputs": [],
   "source": [
    "# --------\n",
    "# MODEL 2 - Controlling for BMI, Sleep Duration, Medication use as well\n",
    "# --------\n",
    "\n",
    "fit.lin2 <- coxph(Surv(AgeBaseline, AgeBaseline + TimeYear, Status) ~ PAEEPOS + StandPGS + BMI_InstChosen + SleepDur_InstChosen + Meds + p22009_a1 + p22009_a2 + p22009_a3 + p22009_a4 + p22009_a5 + p22009_a6 + p22009_a7 + p22009_a8 + p22009_a9 + p22009_a10 + SeasonWear + as.factor(Salt_InstChosen) + AlcIntake_InstChosen + OilyFish_InstChosen + FnVScore + ProcMeat_InstChosen + ParentHist + MobilityDichot + NewEmploy + Townsend + as.factor(NewEduc) + as.factor(SmokStat_InstChosen) + strata(Biological.Sex) + REGION, data = whitedata)\n",
    "\n",
    "summary(fit.lin2)"
   ]
  },
  {
   "cell_type": "code",
   "execution_count": null,
   "metadata": {},
   "outputs": [],
   "source": [
    "# --------\n",
    "# MODEL 3 - Controlling for BMI, Sleep Duration, Medication use as well as occupation variables\n",
    "# --------\n",
    "\n",
    "install.packages('mice')\n",
    "library(mice)\n",
    "\n",
    "whitedatasub <- whitedata[ , c(\"AgeBaseline\", \"TimeYear\", \"Status\", \"PAEEPOS\", \"StandPGS\", \"SeasonWear\", \"Salt_InstChosen\", \"AlcIntake_InstChosen\", \"OilyFish_InstChosen\", \"FnVScore\", \"ProcMeat_InstChosen\", \"ParentHist\", \"MobilityDichot\", \"NewEmploy\", \"Townsend\", \"NewEduc\", \"SmokStat_InstChosen\", \"Biological.Sex\", \"REGION\", \"p22009_a1\",\n",
    "                               \"p22009_a2\", \"p22009_a3\", \"p22009_a4\", \"p22009_a5\", \"p22009_a6\", \"p22009_a7\", \"p22009_a8\", \"p22009_a9\", \"p22009_a10\", \"Meds\", \"BMI_InstChosen\", \"SleepDur_InstChosen\", \"ManLabor_Inst0\", \"WalkorStandWork_Inst0\", \"PercentMVPA\")]\n",
    "\n",
    "\n",
    "imputed_Data <- mice(whitedatasub, m=5, method = 'pmm', seed = 500)\n",
    "whitedataimputedmodel3 <- complete(imputed_Data)\n",
    "\n",
    "\n",
    "fit.lin3 <- coxph(Surv(AgeBaseline, AgeBaseline + TimeYear, Status) ~ PAEEPOS + StandPGS + p22009_a1 + p22009_a2 + p22009_a3 + p22009_a4 + p22009_a5 + p22009_a6 + p22009_a7 + p22009_a8 + p22009_a9 + p22009_a10 + SeasonWear + as.factor(Salt_InstChosen) + AlcIntake_InstChosen + OilyFish_InstChosen + FnVScore + ProcMeat_InstChosen + ParentHist + MobilityDichot + NewEmploy + Townsend + as.factor(NewEduc) + as.factor(SmokStat_InstChosen) + strata(Biological.Sex) + REGION + Meds + BMI_InstChosen + SleepDur_InstChosen + ManLabor_Inst0 + WalkorStandWork_Inst0, data = whitedataimputedmodel3)\n",
    "\n",
    "summary(fit.lin3)\n"
   ]
  }
 ],
 "metadata": {
  "kernelspec": {
   "display_name": "Python 3",
   "language": "python",
   "name": "python3"
  },
  "language_info": {
   "codemirror_mode": {
    "name": "ipython",
    "version": 3
   },
   "file_extension": ".py",
   "mimetype": "text/x-python",
   "name": "python",
   "nbconvert_exporter": "python",
   "pygments_lexer": "ipython3",
   "version": "3.8.5"
  }
 },
 "nbformat": 4,
 "nbformat_minor": 4
}
