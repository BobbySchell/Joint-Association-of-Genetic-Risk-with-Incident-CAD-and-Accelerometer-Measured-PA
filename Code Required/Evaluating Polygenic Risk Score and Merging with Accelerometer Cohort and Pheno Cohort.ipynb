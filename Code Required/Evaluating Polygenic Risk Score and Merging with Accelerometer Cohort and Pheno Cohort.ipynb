{
 "cells": [
  {
   "cell_type": "markdown",
   "metadata": {},
   "source": [
    "# Evaluating Polygenic Risk Score and Merging with Accelerometer Cohort and Pheno Cohort\n",
    "\n",
    "### Sources:\n",
    "\n",
    "> Bycroft C, Freeman C, Petkova D, et al. Genome-wide genetic data on ~500,000 UK Biobank participants Supplementary Material.\n",
    ">\n",
    "> Tamlander M, Mars N, Pirinen M, Widén E, Ripatti S. Integration of questionnaire-based risk factors improves polygenic risk scores for human coronary heart disease and type 2 diabetes. Commun Biol 2022 51. 2022;5(1):1-13. doi:10.1038/s42003-021-02996-0\n",
    ">\n",
    "> Birling M-C, Yoshiki A, Adams DJ, et al. The Polygenic Score Catalog as an open database for reproducibility and systematic evaluation. Nat Genet 2021 534. 2021;53(4):420-425. doi:10.1038/s41588-021-00783-5\n",
    "\n",
    "\n",
    "\n",
    "## Overview of Merging & PRS Evaluation\n",
    "\n",
    "Finally, I had to merge all of the datasets together, evaluate the PRS, and restrict kinship. I started by restricting kinship to only individuals not related third degree or closer. I then merged the principal component dataset with the phenotype dataset and then ultimately merged these datasets with the accelerometer wearing cohort. This creates the final accelerometer cohort with all accelerometer- and genetic-based inclusion criteria applied.\n",
    "\n",
    "I next tested the PRS in the original larger phenotype dataset to roughly replicate the sample used in Tamlander *et al.*, which showed that the performance was extremely similar to the original study. The full comparison is available in the Replications folder. I finally save the datasets as FinalPhenoDataset.csv and the FinalPADataset.csv, which is used for subsequent analyses."
   ]
  },
  {
   "cell_type": "code",
   "execution_count": null,
   "metadata": {},
   "outputs": [],
   "source": [
    "# In Bash kernel\n",
    "dx download FULLPHENODATAALLANCESTRIES.csv\n",
    "dx download FINALPGS.sscore\n",
    "dx download PCsforCAD.csv\n",
    "dx download PACOHORTprocessedPAVarsPAEE.csv\n",
    "dx download UsedinPCA.csv\n",
    "\n"
   ]
  },
  {
   "cell_type": "code",
   "execution_count": null,
   "metadata": {},
   "outputs": [],
   "source": [
    "# In R kernel\n",
    "\n",
    "\n",
    "PGS <- read.table(\"FINALPGS.sscore\") # Polygenic scores for all genotyped individuals\n",
    "FINALDATA <- read.csv(\"FULLPHENODATAALLANCESTRIES.csv\") # Pheno Cohort\n",
    "PCs <- read.csv(\"PCsforCAD.csv\") # Principal components\n",
    "PAData <- read.csv(\"PACOHORTprocessedPAVarsPAEE.csv\") # Accelerometer Cohort\n",
    "UsedinPCA <- read.csv(\"UsedinPCA.csv\") # Indicator if used in PCA"
   ]
  },
  {
   "cell_type": "code",
   "execution_count": null,
   "metadata": {},
   "outputs": [],
   "source": [
    "# Renaming columns\n",
    "colnames(PGS) <- c(\"eid\", \"PGS\")\n",
    "\n",
    "\n",
    "# UsedinPCA merging to get ONLY those that make kinship criteria\n",
    "FINALDATAMERGE <- merge(FINALDATA, UsedinPCA, by = \"eid\", all = F)\n",
    "\n",
    "dim(FINALDATA)\n",
    "dim(FINALDATAMERGE)\n",
    "# 486432 x 91\n",
    "# 486432 x 93\n",
    "\n",
    "\n",
    "# Filtering to ONLY UsedinPCA == \"yes\" - which includes kinship exclusion criteria\n",
    "FINALDATAMERGE <- subset(FINALDATAMERGE, FINALDATAMERGE$p22020 == \"Yes\")\n",
    "# NOW 406,554 x 93 - this makes sense\n",
    "\n",
    "# Merging PGS w/ Pheno Cohort\n",
    "PGSFINALDATA <- merge(PGS, FINALDATAMERGE, by = \"eid\", all = F)\n",
    "\n",
    "# Merging this dataset w/ PCs\n",
    "PGSFINALDATAPCs <- merge(PGSFINALDATA, PCs, by = \"eid\", all = F)\n",
    "\n",
    "dim(PGSFINALDATA)\n",
    "dim(PGSFINALDATAPCs)\n",
    "# 406554 x 94\n",
    "# 406554 x 135\n",
    "# No changes in numbers here - good"
   ]
  },
  {
   "cell_type": "code",
   "execution_count": null,
   "metadata": {},
   "outputs": [],
   "source": [
    "# Restricting to only European ancestry\n",
    "summary(as.factor(PGSFINALDATAPCs$Genetic.Ethnic.Grouping))\n",
    "# Either Caucasian or not... 337,005 Caucasian (vs 358,922 in Mars et al... Makes sense due to diff kinship)\n",
    "\n",
    "PGSFINALDATAWHITE <- subset(PGSFINALDATAPCs, Genetic.Ethnic.Grouping == \"Caucasian\")\n",
    "\n",
    "dim(PGSFINALDATAWHITE)\n",
    "# 337,005 x 135 variables"
   ]
  },
  {
   "cell_type": "code",
   "execution_count": null,
   "metadata": {},
   "outputs": [],
   "source": [
    "# Tamlander et al.\n",
    "# OR = 1.72 (1.70-1.75)\n",
    "\n",
    "\n",
    "# NOW standardizing PGS to make interpretable on correct scale\n",
    "PGSFINALDATAWHITE$StandPGS <- scale(PGSFINALDATAWHITE$PGS)\n",
    "\n",
    "# Regression covariates based on those in PGS Catalog\n",
    "logitfit <- glm(Status ~ StandPGS + Age.at.Recruitment + Biological.Sex, data = PGSFINALDATAWHITE, family = \"binomial\")\n",
    "summary(logitfit)\n",
    "\n",
    "exp(coef(logitfit))\n",
    "\n",
    "exp(cbind(OR = coef(logitfit), confint(logitfit)))\n",
    "# For 95% CIs\n",
    "# 1.67 (1.65 to 1.70)\n",
    "# Very slightly off BUT also not exactly the same pop - stricter ancestry restriction"
   ]
  },
  {
   "cell_type": "code",
   "execution_count": null,
   "metadata": {},
   "outputs": [],
   "source": [
    "# -----------\n",
    "# FINALLY merging PA cohort w/ PGSFINALDATA\n",
    "# -----------\n",
    "\n",
    "FINALOVERALLDATASET <- merge(PGSFINALDATAPCs, PAData, by = \"eid\", all = F)\n",
    "\n",
    "dim(FINALOVERALLDATASET)\n",
    "dim(PAData)\n",
    "dim(PGSFINALDATAPCs)\n",
    "dim(FINALDATA)\n",
    "dim(FINALDATAMERGE)\n",
    "# 79454 x 838 - so 17,206 dropped from kinship\n",
    "# 96660 x 704\n",
    "# 406554 x 135\n",
    "# 486432 x 91\n",
    "# 406554 x 93\n",
    "\n",
    "\n",
    "\n",
    "write.csv(FINALOVERALLDATASET, \"FinalPADataset.csv\")\n",
    "write.csv(PGSFINALDATAPCs, \"FinalPhenoDataset.csv\")\n",
    "\n",
    "summary(as.factor(FINALOVERALLDATASET$Genetic.Ethnic.Grouping))\n",
    "# 1 - 11592 Caucasian - 67862"
   ]
  },
  {
   "cell_type": "code",
   "execution_count": null,
   "metadata": {},
   "outputs": [],
   "source": [
    "# In Bash Kernel\n",
    "dx upload FinalPADataset.csv\n",
    "dx upload FinalPhenoDataset.csv"
   ]
  }
 ],
 "metadata": {
  "kernelspec": {
   "display_name": "Python 3",
   "language": "python",
   "name": "python3"
  },
  "language_info": {
   "codemirror_mode": {
    "name": "ipython",
    "version": 3
   },
   "file_extension": ".py",
   "mimetype": "text/x-python",
   "name": "python",
   "nbconvert_exporter": "python",
   "pygments_lexer": "ipython3",
   "version": "3.8.5"
  }
 },
 "nbformat": 4,
 "nbformat_minor": 4
}
